{
 "cells": [
  {
   "attachments": {},
   "cell_type": "markdown",
   "metadata": {},
   "source": [
    "# Decoder\n",
    "\n",
    "> A customisable pytorch variational decoder model."
   ]
  },
  {
   "cell_type": "code",
   "execution_count": null,
   "metadata": {},
   "outputs": [],
   "source": [
    "#| hide\n",
    "from nbdev.showdoc import *"
   ]
  },
  {
   "cell_type": "code",
   "execution_count": null,
   "metadata": {},
   "outputs": [],
   "source": [
    "#| default_exp Models.VariationalDecoder"
   ]
  },
  {
   "cell_type": "code",
   "execution_count": null,
   "metadata": {},
   "outputs": [],
   "source": [
    "#| export\n",
    "import torch.nn as nn\n",
    "import torch.optim as optim\n",
    "import torch.nn.functional as F\n",
    "\n",
    "class VariationalDecoder(nn.Module):\n",
    "    def __init__(self, input_size, hidden_size, output_size, dropout, use_norm):\n",
    "        super().__init__()\n",
    "        self.input_size = input_size\n",
    "        self.output_size = output_size\n",
    "        self.hidden_size = hidden_size\n",
    "        self.dropout = dropout\n",
    "        self.use_batch_norm = use_norm\n",
    "        \n",
    "        # create a list of layers\n",
    "        layers = []\n",
    "\n",
    "        # input layer\n",
    "        layers.append(nn.Linear(self.input_size, self.hidden_size))\n",
    "        layers.append(nn.LeakyReLU(0.2))\n",
    "        if self.dropout > 0:\n",
    "            layers.append(nn.Dropout(p=self.dropout))\n",
    "\n",
    "        # hidden layers\n",
    "        layers.append(nn.Linear(self.hidden_size, self.hidden_size))\n",
    "        if self.use_batch_norm:\n",
    "            layers.append(nn.InstanceNorm1d(self.hidden_size))\n",
    "        layers.append(nn.LeakyReLU(0.2))\n",
    "        if self.dropout > 0:\n",
    "            layers.append(nn.Dropout(p=self.dropout))\n",
    "        \n",
    "        # output layer\n",
    "        layers.append(nn.Linear(self.hidden_size, self.output_size))\n",
    "        layers.append(nn.Sigmoid())\n",
    "\n",
    "        # create the model using Sequential\n",
    "        self.model = nn.Sequential(*layers)\n",
    "\n",
    "    def forward(self, x):\n",
    "        return self.model(x)\n",
    "\n"
   ]
  },
  {
   "cell_type": "code",
   "execution_count": null,
   "metadata": {},
   "outputs": [],
   "source": [
    "variational_decoder = VariationalDecoder(input_size=10, hidden_size=20, output_size=30, dropout=0.5, use_norm=True)"
   ]
  },
  {
   "cell_type": "code",
   "execution_count": null,
   "metadata": {},
   "outputs": [
    {
     "data": {
      "text/plain": [
       "VariationalDecoder(\n",
       "  (model): Sequential(\n",
       "    (0): Linear(in_features=10, out_features=20, bias=True)\n",
       "    (1): LeakyReLU(negative_slope=0.2)\n",
       "    (2): Dropout(p=0.5, inplace=False)\n",
       "    (3): Linear(in_features=20, out_features=20, bias=True)\n",
       "    (4): InstanceNorm1d(20, eps=1e-05, momentum=0.1, affine=False, track_running_stats=False)\n",
       "    (5): LeakyReLU(negative_slope=0.2)\n",
       "    (6): Dropout(p=0.5, inplace=False)\n",
       "    (7): Linear(in_features=20, out_features=30, bias=True)\n",
       "    (8): Sigmoid()\n",
       "  )\n",
       ")"
      ]
     },
     "execution_count": null,
     "metadata": {},
     "output_type": "execute_result"
    }
   ],
   "source": [
    "variational_decoder"
   ]
  },
  {
   "cell_type": "code",
   "execution_count": null,
   "metadata": {},
   "outputs": [],
   "source": [
    "#| hide\n",
    "import nbdev; nbdev.nbdev_export()"
   ]
  },
  {
   "cell_type": "code",
   "execution_count": null,
   "metadata": {},
   "outputs": [],
   "source": []
  }
 ],
 "metadata": {
  "kernelspec": {
   "display_name": "scINTEGRATION",
   "language": "python",
   "name": "python3"
  }
 },
 "nbformat": 4,
 "nbformat_minor": 2
}
