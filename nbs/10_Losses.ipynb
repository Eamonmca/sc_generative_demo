{
 "cells": [
  {
   "attachments": {},
   "cell_type": "markdown",
   "metadata": {},
   "source": [
    "# Loss Functions\n",
    "\n",
    "> Loss functions for the various models."
   ]
  },
  {
   "cell_type": "code",
   "execution_count": null,
   "metadata": {},
   "outputs": [],
   "source": [
    "#| hide\n",
    "from nbdev.showdoc import *"
   ]
  },
  {
   "cell_type": "code",
   "execution_count": null,
   "metadata": {},
   "outputs": [],
   "source": [
    "#| default_exp Losses"
   ]
  },
  {
   "cell_type": "code",
   "execution_count": null,
   "metadata": {},
   "outputs": [],
   "source": [
    "#| export\n",
    "import torch\n",
    "import torch.nn as nn\n",
    "import torch.nn.functional as F\n",
    "\n",
    "class CategoricalCrossEntropyLoss(nn.Module):\n",
    "    def __init__(self):\n",
    "        super().__init__()\n",
    "\n",
    "    def forward(self, y_hat, y):\n",
    "        return F.nll_loss(y_hat.log(), y.argmax(dim=1))"
   ]
  },
  {
   "cell_type": "code",
   "execution_count": null,
   "metadata": {},
   "outputs": [],
   "source": [
    "class BinaryCrossEntropyLoss(nn.Module):\n",
    "    def __init__(self):\n",
    "        super().__init__()\n",
    "\n",
    "    def forward(self, y_hat, y):\n",
    "        return F.binary_cross_entropy(y_hat, y)"
   ]
  },
  {
   "cell_type": "code",
   "execution_count": null,
   "metadata": {},
   "outputs": [],
   "source": [
    "class VAE_loss(nn.Module):\n",
    "    def __init__(self):\n",
    "        super().__init__()\n",
    "\n",
    "    def forward(self, x_hat, data, mu, sigma):\n",
    "        BCE = F.binary_cross_entropy_with_logits(x_hat, data, reduction='sum')\n",
    "        KLD = -0.5 * torch.sum(1 + sigma - mu.pow(2) - torch.exp(sigma))\n",
    "        return(BCE + KLD)"
   ]
  },
  {
   "cell_type": "code",
   "execution_count": null,
   "metadata": {},
   "outputs": [],
   "source": [
    "def adversarial_loss(y_hat, x_hat, data, mu, sigma, label):\n",
    "    BCE = F.binary_cross_entropy_with_logits(x_hat, data, reduction='sum')\n",
    "    KLD = -0.5 * torch.sum(1 + sigma - mu.pow(2) - torch.exp(sigma))\n",
    "    VAE_loss = (BCE +KLD)\n",
    "    CE = CategoricalCrossEntropyLoss(y_hat, label)\n",
    "    return(-CE + VAE_loss)"
   ]
  },
  {
   "cell_type": "code",
   "execution_count": null,
   "metadata": {},
   "outputs": [],
   "source": [
    "class adversarial_loss_VAEGAN(nn.Module):\n",
    "    def __init__(self):\n",
    "        super().__init__()\n",
    "\n",
    "    def forward(self, y_hat, x_hat, data, mu, sigma, label):\n",
    "        BCE = F.binary_cross_entropy_with_logits(x_hat, data, reduction='sum')\n",
    "        KLD = -0.5 * torch.sum(1 + sigma - mu.pow(2) - torch.exp(sigma))\n",
    "        VAE_loss = (BCE +KLD)\n",
    "        CE = CategoricalCrossEntropyLoss(y_hat, label)\n",
    "        return(-CE + VAE_loss)"
   ]
  },
  {
   "cell_type": "code",
   "execution_count": null,
   "metadata": {},
   "outputs": [],
   "source": [
    "#| hide\n",
    "import nbdev; nbdev.nbdev_export()"
   ]
  }
 ],
 "metadata": {
  "kernelspec": {
   "display_name": "scINTEGRATION",
   "language": "python",
   "name": "python3"
  }
 },
 "nbformat": 4,
 "nbformat_minor": 2
}
