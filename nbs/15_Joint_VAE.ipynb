{
 "cells": [
  {
   "attachments": {},
   "cell_type": "markdown",
   "metadata": {},
   "source": [
    "# VAE Gumbell Softmax\n",
    "\n",
    "> "
   ]
  },
  {
   "cell_type": "code",
   "execution_count": null,
   "metadata": {},
   "outputs": [],
   "source": [
    "#| hide\n",
    "from nbdev.showdoc import *"
   ]
  },
  {
   "cell_type": "code",
   "execution_count": null,
   "metadata": {},
   "outputs": [],
   "source": [
    "#| default_exp Models.VAE_GS"
   ]
  },
  {
   "cell_type": "code",
   "execution_count": null,
   "metadata": {},
   "outputs": [],
   "source": [
    "#| export\n",
    "import torch \n",
    "import torch.nn as nn\n",
    "import torch.optim as optim\n",
    "import torch.nn.functional as F\n",
    "from torch.distributions import NegativeBinomial\n",
    "\n",
    "class VAE_GS(nn.Module):\n",
    "    def __init__(self, encoder, decoder_a, decoder_b, decoder_c):\n",
    "        \"\"\"\n",
    "        The VAEGAN model with Negative Binomial distribution as Latent Variable\n",
    "        \"\"\"\n",
    "        super(VAE_GS, self).__init__()\n",
    "        self.encoder = encoder \n",
    "        self.decoder_r = decoder_a\n",
    "        self.decoder_p = decoder_b\n",
    "        self.decoder = decoder_c\n",
    "        \n",
    "    def reparameterize(self, mu, logvar):\n",
    "        std = torch.exp(0.5*logvar)\n",
    "        eps = torch.randn_like(std)\n",
    "        z = (mu + eps*std)\n",
    "        return z\n",
    "    \n",
    "    def decode(self, z):\n",
    "       h_a = self.decoder_a(z)\n",
    "       h_b = self.decoder_b(z)\n",
    "       h_c = self.decoder_c(z)\n",
    "       h_a = F.relu(h_a)\n",
    "       h_b = F.relu(h_b)\n",
    "       h_c = F.softmax(h_c, dim = 1)\n",
    "       x_hat = NegativeBinomial(h_a, logits = h_b).sample()\n",
    "       y_hat = F.gumbel_softmax(h_c, tau = 0.1, hard = True)\n",
    "       return x_hat, y_hat, h_a, h_b, h_c\n",
    "\n",
    "    def forward(self, x):\n",
    "        mu, logvar = self.encoder(x)\n",
    "        z = self.reparameterize(mu, logvar)\n",
    "        x_hat, y_hat, h_a, h_b, h_c = self.decode(z)\n",
    "        \n",
    "        return x_hat, y_hat, mu, logvar, h_a, h_b, h_c\n"
   ]
  },
  {
   "cell_type": "code",
   "execution_count": null,
   "metadata": {},
   "outputs": [],
   "source": [
    "#| hide\n",
    "import nbdev; nbdev.nbdev_export()"
   ]
  }
 ],
 "metadata": {
  "kernelspec": {
   "display_name": "scINTEGRATION",
   "language": "python",
   "name": "python3"
  }
 },
 "nbformat": 4,
 "nbformat_minor": 2
}
