{
 "cells": [
  {
   "attachments": {},
   "cell_type": "markdown",
   "metadata": {},
   "source": [
    "# VAEGAN NEGATIVE BINOMIAL\n",
    "\n",
    "> The VAEGAN model, takes an Variational Encoder, Variational Decoder and Classifier model as inputs. Uses a negative binomial as the latent variable rather than Gausian."
   ]
  },
  {
   "cell_type": "code",
   "execution_count": null,
   "metadata": {},
   "outputs": [],
   "source": [
    "#| hide\n",
    "from nbdev.showdoc import *"
   ]
  },
  {
   "cell_type": "code",
   "execution_count": null,
   "metadata": {},
   "outputs": [],
   "source": [
    "#| default_exp Models.VAEGAN_NEG_BI"
   ]
  },
  {
   "cell_type": "code",
   "execution_count": null,
   "metadata": {},
   "outputs": [
    {
     "name": "stderr",
     "output_type": "stream",
     "text": [
      "Global seed set to 0\n",
      "/Users/eamonmcandrew/opt/anaconda3/envs/scINTEGRATION/lib/python3.9/site-packages/pytorch_lightning/utilities/warnings.py:53: LightningDeprecationWarning: pytorch_lightning.utilities.warnings.rank_zero_deprecation has been deprecated in v1.6 and will be removed in v1.8. Use the equivalent function from the pytorch_lightning.utilities.rank_zero module instead.\n",
      "  new_rank_zero_deprecation(\n",
      "/Users/eamonmcandrew/opt/anaconda3/envs/scINTEGRATION/lib/python3.9/site-packages/pytorch_lightning/utilities/warnings.py:58: LightningDeprecationWarning: The `pytorch_lightning.loggers.base.rank_zero_experiment` is deprecated in v1.7 and will be removed in v1.9. Please use `pytorch_lightning.loggers.logger.rank_zero_experiment` instead.\n",
      "  return new_rank_zero_deprecation(*args, **kwargs)\n"
     ]
    }
   ],
   "source": [
    "#| export\n",
    "import torch \n",
    "import torch.nn as nn\n",
    "import torch.optim as optim\n",
    "import torch.nn.functional as F\n",
    "import scvi\n",
    "from scvi.models.distributions import NegativeBinomial\n",
    "from torch.distributions import Normal\n",
    "\n",
    "class VAEGAN_NEG_BI(nn.Module):\n",
    "    def __init__(self, encoder_z, encoder_l, decoder_px, decoder_r, classifier, log = True):\n",
    "        \"\"\"\n",
    "        The VAEGAN model with Negative Binomial distribution as Latent Variable\n",
    "        \"\"\"\n",
    "        super(VAEGAN_NEG_BI, self).__init__()\n",
    "        self.encoder_z = encoder_z\n",
    "        self.encoder_l = encoder_l\n",
    "        self.decoder_px = decoder_px\n",
    "        self.decoder_r = decoder_r\n",
    "      \n",
    "        \n",
    "        self.classifier = classifier\n",
    "    \n",
    "        \n",
    "    def reparameterize(self, mu, logvar):\n",
    "        var = torch.exp(logvar) + 1e-4\n",
    "        z = Normal(mu, var.sqrt()).rsample()\n",
    "        return z\n",
    "    \n",
    "    def decode(self, z, l, train = True):\n",
    "        h_x = self.decoder_px(z) \n",
    "        h_x = F.relu(h_x)\n",
    "        h_r = self.decoder_r(h_x)      \n",
    "        h_r = F.softmax(h_r)\n",
    "        h_p = torch.exp(l) * h_r\n",
    "        x_hat = NegativeBinomial(mu =h_r, theta = h_p).sample()\n",
    "        return x_hat, h_r, h_p\n",
    "\n",
    "\n",
    "    def forward(self, x, log=True):\n",
    "        if log :\n",
    "            x= torch.log(x+1)\n",
    "        mu_l, logvar_l = self.encoder_l(x)\n",
    "        mu_z, logvar_z = self.encoder_z(x)\n",
    "        \n",
    "        l = self.reparameterize(mu_l, logvar_l)\n",
    "        l = torch.clamp(l, max=12)\n",
    "        z = self.reparameterize(mu_z, logvar_z)\n",
    "        \n",
    "        x_hat, h_r, h_p = self.decode(z,l)\n",
    "        \n",
    "        y_hat = self.classifier(z) \n",
    "        \n",
    "        return x_hat, y_hat, mu_z, logvar_z, mu_l, logvar_l, h_r, h_p, l\n",
    "\n"
   ]
  },
  {
   "cell_type": "code",
   "execution_count": null,
   "metadata": {},
   "outputs": [],
   "source": [
    "#| hide\n",
    "import nbdev; nbdev.nbdev_export()"
   ]
  },
  {
   "cell_type": "code",
   "execution_count": null,
   "metadata": {},
   "outputs": [],
   "source": [
    "def NLL_loss(data, h_r, h_p):\n",
    "    \n",
    "    data = data.view(-1, 1)\n",
    "    ll = torch.distributions.negative_binomial.NegativeBinomial(h_r, h_p)\n",
    "\n",
    "    neg_ll = -torch.mean(torch.sum(ll, dim=-1))\n",
    "    return neg_ll"
   ]
  },
  {
   "cell_type": "code",
   "execution_count": null,
   "metadata": {},
   "outputs": [
    {
     "ename": "ValueError",
     "evalue": "Expected parameter scale (Tensor of shape ()) of distribution Normal(loc: 0.0, scale: 0.0) to satisfy the constraint GreaterThan(lower_bound=0.0), but found invalid values:\n0.0",
     "output_type": "error",
     "traceback": [
      "\u001b[0;31m---------------------------------------------------------------------------\u001b[0m",
      "\u001b[0;31mValueError\u001b[0m                                Traceback (most recent call last)",
      "\u001b[1;32m/Users/eamonmcandrew/Desktop/Single_cell_integration/scgenerative_demo/nbs/11_Model_VAEGAN_NEG_BI.ipynb Cell 7\u001b[0m in \u001b[0;36m<cell line: 1>\u001b[0;34m()\u001b[0m\n\u001b[0;32m----> <a href='vscode-notebook-cell:/Users/eamonmcandrew/Desktop/Single_cell_integration/scgenerative_demo/nbs/11_Model_VAEGAN_NEG_BI.ipynb#Y204sZmlsZQ%3D%3D?line=0'>1</a>\u001b[0m Normal(\u001b[39m0\u001b[39;49m, \u001b[39m0\u001b[39;49m)\u001b[39m.\u001b[39mrsample()\n",
      "File \u001b[0;32m~/opt/anaconda3/envs/scINTEGRATION/lib/python3.9/site-packages/torch/distributions/normal.py:54\u001b[0m, in \u001b[0;36mNormal.__init__\u001b[0;34m(self, loc, scale, validate_args)\u001b[0m\n\u001b[1;32m     52\u001b[0m \u001b[39melse\u001b[39;00m:\n\u001b[1;32m     53\u001b[0m     batch_shape \u001b[39m=\u001b[39m \u001b[39mself\u001b[39m\u001b[39m.\u001b[39mloc\u001b[39m.\u001b[39msize()\n\u001b[0;32m---> 54\u001b[0m \u001b[39msuper\u001b[39;49m(Normal, \u001b[39mself\u001b[39;49m)\u001b[39m.\u001b[39;49m\u001b[39m__init__\u001b[39;49m(batch_shape, validate_args\u001b[39m=\u001b[39;49mvalidate_args)\n",
      "File \u001b[0;32m~/opt/anaconda3/envs/scINTEGRATION/lib/python3.9/site-packages/torch/distributions/distribution.py:55\u001b[0m, in \u001b[0;36mDistribution.__init__\u001b[0;34m(self, batch_shape, event_shape, validate_args)\u001b[0m\n\u001b[1;32m     53\u001b[0m         valid \u001b[39m=\u001b[39m constraint\u001b[39m.\u001b[39mcheck(value)\n\u001b[1;32m     54\u001b[0m         \u001b[39mif\u001b[39;00m \u001b[39mnot\u001b[39;00m valid\u001b[39m.\u001b[39mall():\n\u001b[0;32m---> 55\u001b[0m             \u001b[39mraise\u001b[39;00m \u001b[39mValueError\u001b[39;00m(\n\u001b[1;32m     56\u001b[0m                 \u001b[39mf\u001b[39m\u001b[39m\"\u001b[39m\u001b[39mExpected parameter \u001b[39m\u001b[39m{\u001b[39;00mparam\u001b[39m}\u001b[39;00m\u001b[39m \u001b[39m\u001b[39m\"\u001b[39m\n\u001b[1;32m     57\u001b[0m                 \u001b[39mf\u001b[39m\u001b[39m\"\u001b[39m\u001b[39m(\u001b[39m\u001b[39m{\u001b[39;00m\u001b[39mtype\u001b[39m(value)\u001b[39m.\u001b[39m\u001b[39m__name__\u001b[39m\u001b[39m}\u001b[39;00m\u001b[39m of shape \u001b[39m\u001b[39m{\u001b[39;00m\u001b[39mtuple\u001b[39m(value\u001b[39m.\u001b[39mshape)\u001b[39m}\u001b[39;00m\u001b[39m) \u001b[39m\u001b[39m\"\u001b[39m\n\u001b[1;32m     58\u001b[0m                 \u001b[39mf\u001b[39m\u001b[39m\"\u001b[39m\u001b[39mof distribution \u001b[39m\u001b[39m{\u001b[39;00m\u001b[39mrepr\u001b[39m(\u001b[39mself\u001b[39m)\u001b[39m}\u001b[39;00m\u001b[39m \u001b[39m\u001b[39m\"\u001b[39m\n\u001b[1;32m     59\u001b[0m                 \u001b[39mf\u001b[39m\u001b[39m\"\u001b[39m\u001b[39mto satisfy the constraint \u001b[39m\u001b[39m{\u001b[39;00m\u001b[39mrepr\u001b[39m(constraint)\u001b[39m}\u001b[39;00m\u001b[39m, \u001b[39m\u001b[39m\"\u001b[39m\n\u001b[1;32m     60\u001b[0m                 \u001b[39mf\u001b[39m\u001b[39m\"\u001b[39m\u001b[39mbut found invalid values:\u001b[39m\u001b[39m\\n\u001b[39;00m\u001b[39m{\u001b[39;00mvalue\u001b[39m}\u001b[39;00m\u001b[39m\"\u001b[39m\n\u001b[1;32m     61\u001b[0m             )\n\u001b[1;32m     62\u001b[0m \u001b[39msuper\u001b[39m(Distribution, \u001b[39mself\u001b[39m)\u001b[39m.\u001b[39m\u001b[39m__init__\u001b[39m()\n",
      "\u001b[0;31mValueError\u001b[0m: Expected parameter scale (Tensor of shape ()) of distribution Normal(loc: 0.0, scale: 0.0) to satisfy the constraint GreaterThan(lower_bound=0.0), but found invalid values:\n0.0"
     ]
    }
   ],
   "source": [
    "Normal(0, 0).rsample()"
   ]
  },
  {
   "cell_type": "code",
   "execution_count": null,
   "metadata": {},
   "outputs": [],
   "source": []
  }
 ],
 "metadata": {
  "kernelspec": {
   "display_name": "scINTEGRATION",
   "language": "python",
   "name": "python3"
  }
 },
 "nbformat": 4,
 "nbformat_minor": 2
}
