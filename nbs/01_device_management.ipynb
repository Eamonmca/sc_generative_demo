{
 "cells": [
  {
   "attachments": {},
   "cell_type": "markdown",
   "metadata": {},
   "source": [
    "# Device Management\n",
    "\n",
    "> Functionality for getting device info such as the operating system, the machine's architecture and the GPU if available."
   ]
  },
  {
   "cell_type": "code",
   "execution_count": null,
   "metadata": {},
   "outputs": [],
   "source": [
    "#| hide\n",
    "from nbdev.showdoc import *"
   ]
  },
  {
   "cell_type": "code",
   "execution_count": null,
   "metadata": {},
   "outputs": [],
   "source": [
    "#| default_exp DeviceManagement"
   ]
  },
  {
   "cell_type": "code",
   "execution_count": null,
   "metadata": {},
   "outputs": [],
   "source": [
    " #| export\n",
    "import torch\n",
    "import platform\n",
    "\n",
    "class DeviceInfo:\n",
    "    def __init__(self):\n",
    "        # Get the operating system and version\n",
    "        self.os = platform.system()\n",
    "        self.version = platform.release()\n",
    "\n",
    "        # Get the machine's architecture\n",
    "        self.arch = platform.machine()\n",
    "        self.gmount = False\n",
    "\n",
    "    def get_device(self):\n",
    "        # Set the device based on the machine's architecture\n",
    "        if self.arch == 'x86_64':\n",
    "            device = torch.device('mps') if self.os == 'Darwin' else torch.device('cuda')\n",
    "            self.gmount = True if self.os == 'Linux' else False\n",
    "        else:\n",
    "            device = torch.device('cpu')\n",
    "            self.gmount = False\n",
    "\n",
    "        return device\n",
    "    \n",
    "    def get_renderer(self):\n",
    "        # Set the default renderer based on the operating system\n",
    "        if self.os == 'Darwin':\n",
    "            return 'notebook'\n",
    "        elif self.os == 'Linux':\n",
    "            return 'colab'\n",
    "        else:\n",
    "            return None\n",
    "    \n",
    "    def get_os(self):\n",
    "        return self.os\n"
   ]
  },
  {
   "cell_type": "code",
   "execution_count": null,
   "metadata": {},
   "outputs": [
    {
     "name": "stdout",
     "output_type": "stream",
     "text": [
      "Using device: mps\n",
      "Using renderer: notebook\n",
      "Using gmount: False\n",
      "Using os: Darwin\n"
     ]
    }
   ],
   "source": [
    "device_info = DeviceInfo()\n",
    "device = device_info.get_device()\n",
    "renderer = device_info.get_renderer()\n",
    "gmount = device_info.gmount\n",
    "os = device_info.get_os()\n",
    "\n",
    "\n",
    "print(f\"Using device: {device}\")\n",
    "print(f\"Using renderer: {renderer}\")\n",
    "print(f\"Using gmount: {gmount}\")\n",
    "print(f\"Using os: {os}\")"
   ]
  },
  {
   "cell_type": "code",
   "execution_count": null,
   "metadata": {},
   "outputs": [],
   "source": [
    "#| hide\n",
    "import nbdev; nbdev.nbdev_export()"
   ]
  }
 ],
 "metadata": {
  "kernelspec": {
   "display_name": "scINTEGRATION",
   "language": "python",
   "name": "python3"
  }
 },
 "nbformat": 4,
 "nbformat_minor": 2
}
