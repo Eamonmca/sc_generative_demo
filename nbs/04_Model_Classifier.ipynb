{
 "cells": [
  {
   "attachments": {},
   "cell_type": "markdown",
   "metadata": {},
   "source": [
    "# Classifier Model\n",
    "\n",
    "> A customisable pytorch classifier model."
   ]
  },
  {
   "cell_type": "code",
   "execution_count": null,
   "metadata": {},
   "outputs": [],
   "source": [
    "#| hide\n",
    "from nbdev.showdoc import *"
   ]
  },
  {
   "cell_type": "code",
   "execution_count": null,
   "metadata": {},
   "outputs": [],
   "source": [
    "#| default_exp Models.Classifier"
   ]
  },
  {
   "cell_type": "code",
   "execution_count": null,
   "metadata": {},
   "outputs": [],
   "source": [
    " #| export\n",
    "import torch.nn as nn\n",
    "import torch.optim as optim\n",
    "import torch.nn.functional as F\n",
    "\n",
    "class Classifier(nn.Module):\n",
    "    \"\"\"A simple classifier model.\n",
    "    \"\"\"\n",
    "    def __init__(self, input_size:int, # number of features\n",
    "                  hidden_sizes:list , output_size, dropout, use_batch_norm, spectral_norm=False):\n",
    "        super().__init__()\n",
    "\n",
    "        self.input_size = input_size\n",
    "        self.dropout = dropout\n",
    "        self.hidden_sizes = hidden_sizes\n",
    "        self.output_size = output_size\n",
    "        self.use_batch_norm = use_batch_norm\n",
    "        self.spectral_norm = spectral_norm\n",
    "            \n",
    "        if spectral_norm:\n",
    "            self.spectral_norm = nn.utils.spectral_norm\n",
    "\n",
    "        # create a list of layers\n",
    "        layers = []\n",
    "\n",
    "        # input layer\n",
    "        if spectral_norm:\n",
    "            layers.append(self.spectral_norm(nn.Linear(self.input_size, self.hidden_sizes[0])))\n",
    "        else:\n",
    "            layers.append(nn.Linear(self.input_size, self.hidden_sizes[0]))\n",
    "        layers.append(nn.LeakyReLU(0.2))\n",
    "        if self.dropout > 0:\n",
    "            layers.append(nn.Dropout(p=self.dropout))\n",
    "\n",
    "        # hidden layers\n",
    "        for i in range(1, len(self.hidden_sizes)):\n",
    "            if spectral_norm:\n",
    "                layers.append(self.spectral_norm(nn.Linear(self.hidden_sizes[i-1], self.hidden_sizes[i])))\n",
    "            else:\n",
    "                layers.append(nn.Linear(self.hidden_sizes[i-1], self.hidden_sizes[i]))\n",
    "            if self.use_batch_norm:\n",
    "                layers.append(nn.InstanceNorm1d(self.hidden_sizes[i]))\n",
    "            layers.append(nn.LeakyReLU(0.2))\n",
    "            if self.dropout > 0:\n",
    "                layers.append(nn.Dropout(p=self.dropout))\n",
    "\n",
    "        # output layer\n",
    "        layers.append(nn.Linear(self.hidden_sizes[-1], self.output_size))\n",
    "        # create the model using Sequential\n",
    "        self.model = nn.Sequential(*layers)\n",
    "\n",
    "    def forward(self, x):\n",
    "        x = self.model(x)\n",
    "        return F.softmax(x,dim=1)\n",
    "      \n"
   ]
  },
  {
   "cell_type": "code",
   "execution_count": null,
   "metadata": {},
   "outputs": [],
   "source": [
    "from sc_generative_demo.Models.Classifier import *"
   ]
  },
  {
   "cell_type": "code",
   "execution_count": null,
   "metadata": {},
   "outputs": [],
   "source": [
    "classifier = Classifier(10, [20, 30], 2, 0.1, True, spectral_norm=False)"
   ]
  },
  {
   "cell_type": "code",
   "execution_count": null,
   "metadata": {},
   "outputs": [
    {
     "data": {
      "text/plain": [
       "Classifier(\n",
       "  (model): Sequential(\n",
       "    (0): Linear(in_features=10, out_features=20, bias=True)\n",
       "    (1): LeakyReLU(negative_slope=0.2)\n",
       "    (2): Dropout(p=0.1, inplace=False)\n",
       "    (3): Linear(in_features=20, out_features=30, bias=True)\n",
       "    (4): InstanceNorm1d(30, eps=1e-05, momentum=0.1, affine=False, track_running_stats=False)\n",
       "    (5): LeakyReLU(negative_slope=0.2)\n",
       "    (6): Dropout(p=0.1, inplace=False)\n",
       "    (7): Linear(in_features=30, out_features=2, bias=True)\n",
       "  )\n",
       ")"
      ]
     },
     "execution_count": null,
     "metadata": {},
     "output_type": "execute_result"
    }
   ],
   "source": [
    "classifier"
   ]
  },
  {
   "cell_type": "code",
   "execution_count": null,
   "metadata": {},
   "outputs": [],
   "source": [
    "#| hide\n",
    "import nbdev; nbdev.nbdev_export()"
   ]
  }
 ],
 "metadata": {
  "kernelspec": {
   "display_name": "scINTEGRATION",
   "language": "python",
   "name": "python3"
  }
 },
 "nbformat": 4,
 "nbformat_minor": 2
}
