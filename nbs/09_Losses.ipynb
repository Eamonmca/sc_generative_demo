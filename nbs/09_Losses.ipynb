{
 "cells": [
  {
   "attachments": {},
   "cell_type": "markdown",
   "metadata": {},
   "source": [
    "# Decoder\n",
    "\n",
    "> A customisable pytorch variational decoder model."
   ]
  },
  {
   "cell_type": "code",
   "execution_count": null,
   "metadata": {},
   "outputs": [],
   "source": [
    "#| hide\n",
    "from nbdev.showdoc import *"
   ]
  },
  {
   "cell_type": "code",
   "execution_count": null,
   "metadata": {},
   "outputs": [],
   "source": [
    "#| default_exp Models.VariationalDecoder"
   ]
  },
  {
   "cell_type": "code",
   "execution_count": null,
   "metadata": {},
   "outputs": [],
   "source": [
    "#| export\n",
    "import torch.nn as nn\n",
    "import torch.optim as optim\n",
    "import torch.nn.functional as F\n",
    "\n",
    "class VariationalDecoder(nn.Module):\n",
    "    \"\"\"Variational Decoder model\"\"\"\n",
    "    def __init__(self, input_size, hidden_sizes, output_size, dropout, use_norm):\n",
    "        super().__init__()\n",
    "        self.input_size = input_size\n",
    "        self.output_size = output_size\n",
    "        self.hidden_sizes = hidden_sizes\n",
    "        self.dropout = dropout\n",
    "        self.use_batch_norm = use_norm\n",
    "        \n",
    "        \n",
    "        # create a list of layers\n",
    "        layers = []\n",
    "\n",
    "        # input layer\n",
    "        layers.append(nn.Linear(self.input_size, self.hidden_sizes[0]))\n",
    "        layers.append(nn.LeakyReLU(0.2))\n",
    "        if self.dropout > 0:\n",
    "            layers.append(nn.Dropout(p=self.dropout))\n",
    "\n",
    "        # hidden layers\n",
    "        for i in range(1, len(self.hidden_sizes)):\n",
    "            layers.append(nn.Linear(self.hidden_sizes[i-1], self.hidden_sizes[i]))\n",
    "            if self.use_batch_norm:\n",
    "                layers.append(nn.InstanceNorm1d(self.hidden_sizes[i]))\n",
    "            layers.append(nn.LeakyReLU(0.2))\n",
    "            if self.dropout > 0:\n",
    "                layers.append(nn.Dropout(p=self.dropout))\n",
    "        \n",
    "        # output layer\n",
    "        layers.append(nn.Linear(self.hidden_sizes[-1], self.output_size))\n",
    "\n",
    "        # create the model using Sequential\n",
    "        self.model = nn.Sequential(*layers)\n",
    "\n",
    "    def forward(self, x):\n",
    "        return self.model(x)\n",
    "\n"
   ]
  },
  {
   "cell_type": "code",
   "execution_count": null,
   "metadata": {},
   "outputs": [],
   "source": [
    "variational_decoder = VariationalDecoder(input_size=10, hidden_sizes=[20], output_size=30, dropout=0.5, use_norm=True)"
   ]
  },
  {
   "cell_type": "code",
   "execution_count": null,
   "metadata": {},
   "outputs": [],
   "source": [
    "#| hide\n",
    "import nbdev; nbdev.nbdev_export()"
   ]
  },
  {
   "cell_type": "code",
   "execution_count": null,
   "metadata": {},
   "outputs": [],
   "source": []
  }
 ],
 "metadata": {
  "kernelspec": {
   "display_name": "scINTEGRATION",
   "language": "python",
   "name": "python3"
  }
 },
 "nbformat": 4,
 "nbformat_minor": 2
}
