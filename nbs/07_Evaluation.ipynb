{
 "cells": [
  {
   "attachments": {},
   "cell_type": "markdown",
   "metadata": {},
   "source": [
    "# Evaluation\n",
    "\n",
    "> Funtions to help with evaluating outputs of generative models."
   ]
  },
  {
   "cell_type": "code",
   "execution_count": null,
   "metadata": {},
   "outputs": [],
   "source": [
    "#| hide\n",
    "from nbdev.showdoc import *\n",
    "from fastcore.utils import *"
   ]
  },
  {
   "cell_type": "code",
   "execution_count": null,
   "metadata": {},
   "outputs": [],
   "source": [
    "#| default_exp Evaluation"
   ]
  },
  {
   "cell_type": "code",
   "execution_count": null,
   "metadata": {},
   "outputs": [],
   "source": [
    "#| export\n",
    "import torch\n",
    "import scanpy as sc\n",
    "import numpy as np\n",
    "from fastcore.utils import *\n",
    "import wandb\n",
    "import scib\n",
    "\n",
    "\n",
    "\n",
    "\n",
    "class Visualize:\n",
    "    \"Evaluation of the model\"\n",
    "    pass\n",
    "    "
   ]
  },
  {
   "cell_type": "code",
   "execution_count": null,
   "metadata": {},
   "outputs": [],
   "source": [
    "#| export\n",
    "@patch_to(Visualize)\n",
    "def plot_embeddings(scdata, color_key_list, basis_list, device, show=False, log=True):\n",
    "    for basis in basis_list:\n",
    "        for color_key in color_key_list:\n",
    "            plot_embeddings = sc.pl.embedding(scdata, basis=basis, color=color_key, wspace=0.3,  show=show)\n",
    "            if log:\n",
    "                wandb.log({\"plot_embeddings_{}_{}\".format(basis, color_key): wandb.Image(plot_embeddings)})"
   ]
  },
  {
   "cell_type": "code",
   "execution_count": null,
   "metadata": {},
   "outputs": [],
   "source": [
    "#| export\n",
    "@patch_to(Visualize)\n",
    "def plot_umaps(scdata, color_key_list, rep_list, device, show=False, log=True):\n",
    "    for rep in rep_list:\n",
    "        umap = sc.pp.neighbors(scdata, use_rep=rep)\n",
    "        sc.tl.umap(scdata)\n",
    "        for color_key in color_key_list:\n",
    "            umap = sc.pl.umap(scdata, color=color_key, wspace=0.3, show = show)\n",
    "            if log:\n",
    "                wandb.log({\"UMAP_{}_{}\".format(rep, color_key): wandb.Image(umap)})"
   ]
  },
  {
   "cell_type": "code",
   "execution_count": null,
   "metadata": {},
   "outputs": [],
   "source": [
    "#| export\n",
    "class Inferance:\n",
    "   \"Inferance of the model\"\n",
    "   pass"
   ]
  },
  {
   "cell_type": "code",
   "execution_count": null,
   "metadata": {},
   "outputs": [],
   "source": [
    "#| export\n",
    "@patch_to(Inferance)\n",
    "def get_embeddings_VAEGAN(VAEGAN, dataloader, device):\n",
    "    with torch.no_grad():\n",
    "        embeddings = []\n",
    "        labels = []\n",
    "        for batch, label in dataloader:\n",
    "            batch = batch.to(device)\n",
    "            x_hat, y_hat, mu, logvar = VAEGAN(batch)\n",
    "            embeddings.append(mu.cpu().numpy())\n",
    "            labels.append(label.cpu().numpy())\n",
    "        embeddings = np.concatenate(embeddings)\n",
    "        labels = np.concatenate(labels)\n",
    "        return embeddings"
   ]
  },
  {
   "cell_type": "code",
   "execution_count": null,
   "metadata": {},
   "outputs": [],
   "source": [
    "#| export\n",
    "@patch_to(Inferance)\n",
    "def get_embeddings_VAEGAN_NEG_BI(VAEGAN, dataloader, device):\n",
    "    with torch.no_grad():\n",
    "        embeddings = []\n",
    "        labels = []\n",
    "        for batch, label in dataloader:\n",
    "            batch = batch.to(device)\n",
    "            x_hat, y_hat, mu, logvar, h_r, h_p = VAEGAN(batch)\n",
    "            embeddings.append(mu.cpu().numpy())\n",
    "            labels.append(label.cpu().numpy())\n",
    "        embeddings = np.concatenate(embeddings)\n",
    "        labels = np.concatenate(labels)\n",
    "        return embeddings"
   ]
  },
  {
   "cell_type": "code",
   "execution_count": null,
   "metadata": {},
   "outputs": [],
   "source": [
    "#| export\n",
    "@patch_to(Inferance)\n",
    "def decode_embeddings_VAEGAN(VAEGAN, embeddings, device):\n",
    "    with torch.no_grad():\n",
    "        embeddings = torch.from_numpy(embeddings).to(device)\n",
    "        for batch in embeddings:\n",
    "            x_hat = VAEGAN.decoder(batch)\n",
    "        x_hat = VAEGAN.decode()\n",
    "        return x_hat.cpu().numpy()"
   ]
  },
  {
   "cell_type": "code",
   "execution_count": null,
   "metadata": {},
   "outputs": [],
   "source": [
    "#| export\n",
    "@patch_to(Inferance)\n",
    "def decode_embeddings_VAEGAN_NEG_BI(VAEGAN, embeddings, device):\n",
    "    with torch.no_grad():\n",
    "        embeddings = torch.from_numpy(embeddings).to(device)\n",
    "        embeddings_list = []\n",
    "        for batch in embeddings:\n",
    "            batch = batch.to(device)\n",
    "            x_hat = VAEGAN.decode(batch)\n",
    "            embeddings_list.append(x_hat.cpu().numpy())\n",
    "        embeddings_list = np.array(embeddings_list)\n",
    "        return embeddings_list"
   ]
  },
  {
   "cell_type": "code",
   "execution_count": null,
   "metadata": {},
   "outputs": [],
   "source": [
    "class batch:\n",
    "    pass"
   ]
  },
  {
   "cell_type": "code",
   "execution_count": null,
   "metadata": {},
   "outputs": [],
   "source": []
  },
  {
   "cell_type": "code",
   "execution_count": null,
   "metadata": {},
   "outputs": [],
   "source": [
    "#| hide\n",
    "import nbdev; nbdev.nbdev_export()"
   ]
  },
  {
   "cell_type": "code",
   "execution_count": null,
   "metadata": {},
   "outputs": [],
   "source": []
  },
  {
   "cell_type": "code",
   "execution_count": null,
   "metadata": {},
   "outputs": [],
   "source": []
  },
  {
   "cell_type": "code",
   "execution_count": null,
   "metadata": {},
   "outputs": [],
   "source": []
  }
 ],
 "metadata": {
  "kernelspec": {
   "display_name": "scINTEGRATION",
   "language": "python",
   "name": "python3"
  }
 },
 "nbformat": 4,
 "nbformat_minor": 2
}
