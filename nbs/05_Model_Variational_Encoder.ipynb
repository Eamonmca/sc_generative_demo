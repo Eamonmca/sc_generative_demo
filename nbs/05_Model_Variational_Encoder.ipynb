{
 "cells": [
  {
   "attachments": {},
   "cell_type": "markdown",
   "metadata": {},
   "source": [
    "# Encoder\n",
    "\n",
    "> A customisable pytorch variational encoder model."
   ]
  },
  {
   "cell_type": "code",
   "execution_count": null,
   "metadata": {},
   "outputs": [],
   "source": [
    "#| hide\n",
    "from nbdev.showdoc import *"
   ]
  },
  {
   "cell_type": "code",
   "execution_count": null,
   "metadata": {},
   "outputs": [],
   "source": [
    "#| default_exp Models.VariationalEncoder"
   ]
  },
  {
   "cell_type": "code",
   "execution_count": null,
   "metadata": {},
   "outputs": [],
   "source": [
    "#| export\n",
    "import torch.nn as nn\n",
    "import torch.optim as optim\n",
    "import torch.nn.functional as F\n",
    "\n",
    "class VariationalEncoder(nn.Module):\n",
    "    def __init__(self, input_size, hidden_size, latent_size, dropout, use_norm):\n",
    "        super().__init__()\n",
    "        self.input_size = input_size\n",
    "        self.hidden_size = hidden_size\n",
    "        self.latent_size = latent_size\n",
    "        self.dropout = dropout\n",
    "        self.use_batch_norm = use_norm\n",
    "\n",
    "        # create a list of layers\n",
    "        layers = []\n",
    "\n",
    "        # input layer\n",
    "        layers.append(nn.Linear(self.input_size, self.hidden_size))\n",
    "        layers.append(nn.LeakyReLU(0.2))\n",
    "        if self.dropout > 0:\n",
    "            layers.append(nn.Dropout(p=self.dropout))\n",
    "\n",
    "        # hidden layers\n",
    "        layers.append(nn.Linear(self.hidden_size, self.hidden_size))\n",
    "        if self.use_batch_norm:\n",
    "            layers.append(nn.InstanceNorm1d(self.hidden_size))\n",
    "        layers.append(nn.LeakyReLU(0.2))\n",
    "        if self.dropout > 0:\n",
    "            layers.append(nn.Dropout(p=self.dropout))\n",
    "        \n",
    "        #latent variables layers \n",
    "        layers.append(nn.Linear(self.hidden_size, self.latent_size))\n",
    "        layers.append(nn.Linear(self.hidden_size, self.latent_size))\n",
    "        \n",
    "        # create the model using Sequential\n",
    "        self.model = nn.Sequential(*layers)\n",
    "\n",
    "    def forward(self, x):\n",
    "        x = self.model(x)\n",
    "        return x[:, :self.latent_size], x[:, self.latent_size:]\n"
   ]
  },
  {
   "cell_type": "code",
   "execution_count": null,
   "metadata": {},
   "outputs": [],
   "source": [
    "variational_encoder = VariationalEncoder(input_size=100, hidden_size=100, latent_size=10, dropout=0.1, use_norm=True)"
   ]
  },
  {
   "cell_type": "code",
   "execution_count": null,
   "metadata": {},
   "outputs": [
    {
     "data": {
      "text/plain": [
       "VariationalEncoder(\n",
       "  (model): Sequential(\n",
       "    (0): Linear(in_features=100, out_features=100, bias=True)\n",
       "    (1): LeakyReLU(negative_slope=0.2)\n",
       "    (2): Dropout(p=0.1, inplace=False)\n",
       "    (3): Linear(in_features=100, out_features=100, bias=True)\n",
       "    (4): InstanceNorm1d(100, eps=1e-05, momentum=0.1, affine=False, track_running_stats=False)\n",
       "    (5): LeakyReLU(negative_slope=0.2)\n",
       "    (6): Dropout(p=0.1, inplace=False)\n",
       "    (7): Linear(in_features=100, out_features=10, bias=True)\n",
       "    (8): Linear(in_features=100, out_features=10, bias=True)\n",
       "  )\n",
       ")"
      ]
     },
     "execution_count": null,
     "metadata": {},
     "output_type": "execute_result"
    }
   ],
   "source": [
    "variational_encoder"
   ]
  },
  {
   "cell_type": "code",
   "execution_count": null,
   "metadata": {},
   "outputs": [],
   "source": [
    "#| hide\n",
    "import nbdev; nbdev.nbdev_export()"
   ]
  }
 ],
 "metadata": {
  "kernelspec": {
   "display_name": "scINTEGRATION",
   "language": "python",
   "name": "python3"
  }
 },
 "nbformat": 4,
 "nbformat_minor": 2
}
