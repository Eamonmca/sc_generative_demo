{
 "cells": [
  {
   "attachments": {},
   "cell_type": "markdown",
   "metadata": {},
   "source": [
    "# Encoder\n",
    "\n",
    "> A customisable pytorch variational encoder model."
   ]
  },
  {
   "cell_type": "code",
   "execution_count": null,
   "metadata": {},
   "outputs": [],
   "source": [
    "#| hide\n",
    "from nbdev.showdoc import *"
   ]
  },
  {
   "cell_type": "code",
   "execution_count": null,
   "metadata": {},
   "outputs": [],
   "source": [
    "#| default_exp Models.VariationalEncoder"
   ]
  },
  {
   "cell_type": "code",
   "execution_count": null,
   "metadata": {},
   "outputs": [],
   "source": [
    "#| export\n",
    "import torch.nn as nn\n",
    "import torch.optim as optim\n",
    "import torch.nn.functional as F\n",
    "\n",
    "class VariationalEncoder(nn.Module):\n",
    "    \"\"\" Variational Encoder pytorch model\n",
    "    \"\"\"\n",
    "    def __init__(self, input_size, hidden_sizes, latent_size, dropout, use_norm):\n",
    "        super().__init__()\n",
    "        self.input_size = input_size\n",
    "        self.hidden_sizes = hidden_sizes\n",
    "        self.latent_size = latent_size\n",
    "        self.dropout = dropout\n",
    "        self.use_norm = use_norm\n",
    "\n",
    "        # create a list of layers\n",
    "        layers = []\n",
    "\n",
    "        # input layer\n",
    "        layers.append(nn.Linear(self.input_size, self.hidden_sizes[0]))\n",
    "        layers.append(nn.ReLU(0.2))\n",
    "        if self.dropout > 0:\n",
    "            layers.append(nn.Dropout(p=self.dropout))\n",
    "\n",
    "        # hidden layers\n",
    "        for i in range(1, len(self.hidden_sizes)):\n",
    "            layers.append(nn.Linear(self.hidden_sizes[i-1], self.hidden_sizes[i]))\n",
    "            if self.use_norm:\n",
    "                layers.append(nn.InstanceNorm1d(self.hidden_sizes[i]))\n",
    "            layers.append(nn.ReLU(0.2))\n",
    "            if self.dropout > 0:\n",
    "                layers.append(nn.Dropout(p=self.dropout))\n",
    "            \n",
    "        layers.append(nn.Linear(self.hidden_sizes[-1], self.latent_size))\n",
    "      \n",
    "        # create the model using Sequential\n",
    "        self.model = nn.Sequential(*layers)\n",
    "        self.mu_layer = nn.Linear(self.hidden_sizes[-1], self.latent_size)\n",
    "        self.logvar_layer = nn.Linear(self.hidden_sizes[-1], self.latent_size)\n",
    "       \n",
    "        \n",
    "\n",
    "    def forward(self, x):\n",
    "        x = self.model(x)\n",
    "        mu = self.mu_layer(x)\n",
    "        logvar = self.logvar_layer(x)\n",
    "        return mu, logvar"
   ]
  },
  {
   "cell_type": "code",
   "execution_count": null,
   "metadata": {},
   "outputs": [],
   "source": [
    "variational_encoder = VariationalEncoder(input_size= 13431, hidden_sizes=[256,100], latent_size=64, dropout=0.1, use_norm=True).to('mps')\n"
   ]
  },
  {
   "cell_type": "code",
   "execution_count": null,
   "metadata": {},
   "outputs": [
    {
     "data": {
      "text/plain": [
       "VariationalEncoder(\n",
       "  (model): Sequential(\n",
       "    (0): Linear(in_features=13431, out_features=256, bias=True)\n",
       "    (1): ReLU(inplace=True)\n",
       "    (2): Dropout(p=0.1, inplace=False)\n",
       "    (3): Linear(in_features=256, out_features=100, bias=True)\n",
       "    (4): InstanceNorm1d(100, eps=1e-05, momentum=0.1, affine=False, track_running_stats=False)\n",
       "    (5): ReLU(inplace=True)\n",
       "    (6): Dropout(p=0.1, inplace=False)\n",
       "    (7): Linear(in_features=100, out_features=64, bias=True)\n",
       "  )\n",
       "  (mu_layer): Linear(in_features=100, out_features=64, bias=True)\n",
       "  (logvar_layer): Linear(in_features=100, out_features=64, bias=True)\n",
       ")"
      ]
     },
     "execution_count": null,
     "metadata": {},
     "output_type": "execute_result"
    }
   ],
   "source": [
    "# test the model\n",
    "variational_encoder"
   ]
  },
  {
   "cell_type": "code",
   "execution_count": null,
   "metadata": {},
   "outputs": [],
   "source": [
    "\n"
   ]
  },
  {
   "cell_type": "code",
   "execution_count": null,
   "metadata": {},
   "outputs": [],
   "source": [
    "\n",
    "    "
   ]
  },
  {
   "cell_type": "code",
   "execution_count": null,
   "metadata": {},
   "outputs": [],
   "source": [
    "#| hide\n",
    "import nbdev; nbdev.nbdev_export()"
   ]
  }
 ],
 "metadata": {
  "kernelspec": {
   "display_name": "scINTEGRATION",
   "language": "python",
   "name": "python3"
  }
 },
 "nbformat": 4,
 "nbformat_minor": 2
}
