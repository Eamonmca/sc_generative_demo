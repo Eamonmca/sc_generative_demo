{
 "cells": [
  {
   "attachments": {},
   "cell_type": "markdown",
   "metadata": {},
   "source": [
    "# VAEGAN NEGATIVE BINOMIAL\n",
    "\n",
    "> The VAEGAN model, takes an Variational Encoder, Variational Decoder and Classifier model as inputs. Uses a negative binomial as the latent variable rather than Gausian."
   ]
  },
  {
   "cell_type": "code",
   "execution_count": null,
   "metadata": {},
   "outputs": [],
   "source": [
    "#| hide\n",
    "from nbdev.showdoc import *"
   ]
  },
  {
   "cell_type": "code",
   "execution_count": null,
   "metadata": {},
   "outputs": [],
   "source": [
    "#| default_exp Models.VAEGAN_NEG_BI"
   ]
  },
  {
   "cell_type": "code",
   "execution_count": null,
   "metadata": {},
   "outputs": [],
   "source": [
    "#| export\n",
    "import torch \n",
    "import torch.nn as nn\n",
    "import torch.optim as optim\n",
    "import torch.nn.functional as F\n",
    "from torch.distributions import NegativeBinomial\n",
    "\n",
    "class VAEGAN_NEG_BI(nn.Module):\n",
    "    def __init__(self, encoder, decoder_r, decoder_p, classifier):\n",
    "        \"\"\"\n",
    "        The VAEGAN model with Negative Binomial distribution as Latent Variable\n",
    "        \"\"\"\n",
    "        super(VAEGAN_NEG_BI, self).__init__()\n",
    "        self.encoder = encoder \n",
    "        self.decoder_r = decoder_r\n",
    "        self.decoder_p = decoder_p\n",
    "        \n",
    "        self.classifier = classifier\n",
    "    \n",
    "        \n",
    "    def reparameterize(self, mu, logvar):\n",
    "        std = torch.exp(0.5*logvar)\n",
    "        eps = torch.randn_like(std)\n",
    "        z = (mu + eps*std)\n",
    "        return z\n",
    "    \n",
    "    def decode(self, z):\n",
    "        h_r = self.decoder_r(z)\n",
    "        h_p = self.decoder_p(z)\n",
    "        h_r = F.relu(h_r)\n",
    "        h_p = F.softmax(h_p)\n",
    "        x_hat = NegativeBinomial(h_r, logits=h_p).sample()\n",
    "        return x_hat, h_r, h_p\n",
    "\n",
    "\n",
    "    def forward(self, x):\n",
    "        mu, logvar = self.encoder(x)\n",
    "        z = self.reparameterize(mu, logvar)\n",
    "        x_hat, h_r, h_p = self.decode(z)\n",
    "        y_hat = self.classifier(z) \n",
    "        return x_hat, y_hat, mu, logvar, h_r, h_p\n",
    "\n"
   ]
  },
  {
   "cell_type": "code",
   "execution_count": null,
   "metadata": {},
   "outputs": [],
   "source": [
    "#| hide\n",
    "import nbdev; nbdev.nbdev_export()"
   ]
  },
  {
   "cell_type": "code",
   "execution_count": null,
   "metadata": {},
   "outputs": [],
   "source": [
    "def NLL_loss(data, h_r, h_p):\n",
    "    \n",
    "    data = data.view(-1, 1)\n",
    "    ll = torch.distributions.negative_binomial.NegativeBinomial(h_r, h_p)\n",
    "\n",
    "    neg_ll = -torch.mean(torch.sum(ll, dim=-1))\n",
    "    return neg_ll"
   ]
  }
 ],
 "metadata": {
  "kernelspec": {
   "display_name": "scINTEGRATION",
   "language": "python",
   "name": "python3"
  }
 },
 "nbformat": 4,
 "nbformat_minor": 2
}
