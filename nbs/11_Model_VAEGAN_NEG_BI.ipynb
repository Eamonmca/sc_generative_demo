{
 "cells": [
  {
   "attachments": {},
   "cell_type": "markdown",
   "metadata": {},
   "source": [
    "# VAEGAN NEGATIVE BINOMIAL\n",
    "\n",
    "> The VAEGAN model, takes an Variational Encoder, Variational Decoder and Classifier model as inputs. Uses a negative binomial as the latent variable rather than Gausian."
   ]
  },
  {
   "cell_type": "code",
   "execution_count": null,
   "metadata": {},
   "outputs": [],
   "source": [
    "#| hide\n",
    "from nbdev.showdoc import *"
   ]
  },
  {
   "cell_type": "code",
   "execution_count": null,
   "metadata": {},
   "outputs": [],
   "source": [
    "#| default_exp Models.VAEGAN_NEG_BI"
   ]
  },
  {
   "cell_type": "code",
   "execution_count": null,
   "metadata": {},
   "outputs": [],
   "source": [
    "#| export\n",
    "import torch \n",
    "import torch.nn as nn\n",
    "import torch.optim as optim\n",
    "import torch.nn.functional as F\n",
    "import scvi\n",
    "from scvi.models.distributions import NegativeBinomial\n",
    "from torch.distributions import Normal\n",
    "\n",
    "class VAEGAN_NEG_BI(nn.Module):\n",
    "    def __init__(self, encoder_z, encoder_l, decoder_x, decoder_r, decoder_p, classifier, log = True):\n",
    "        \"\"\"\n",
    "        The VAEGAN model with Negative Binomial distribution as Latent Variable\n",
    "        \"\"\"\n",
    "        super(VAEGAN_NEG_BI, self).__init__()\n",
    "        self.encoder_z = encoder_z\n",
    "        self.encoder_l = encoder_l\n",
    "        self.decoder_x = decoder_x\n",
    "        self.decoder_r = decoder_r\n",
    "        self.decoder_p = decoder_p\n",
    "        \n",
    "        self.classifier = classifier\n",
    "    \n",
    "        \n",
    "    def reparameterize(self, mu, logvar):\n",
    "        var = torch.exp(logvar) + 1e-8\n",
    "        z = Normal(mu, var.sqrt()).rsample()\n",
    "        return z\n",
    "    \n",
    "    def decode(self, z, l):\n",
    "        h_x = self.decoder_x(z) \n",
    "        h_r = self.decoder_r(h_x)      \n",
    "        h_r = F.relu(h_r, dim=1)\n",
    "        h_p = self.decoder_p(h_x)\n",
    "        h_p = F.softmax(h_p, dim=1)\n",
    "        h_p = torch.exp(torch.clamp(l, 12)) * h_p\n",
    "        x_hat = NegativeBinomial(mu = h_r, theta= h_p).sample()\n",
    "        return x_hat, h_r, h_p\n",
    "\n",
    "\n",
    "    def forward(self, x, log=False):\n",
    "        if log :\n",
    "            x= torch.log(x+1)\n",
    "        mu_l, logvar_l = self.encoder_l(x)\n",
    "        mu_z, logvar_z = self.encoder_z(x)\n",
    "        \n",
    "        l = self.reparameterize(mu_l, logvar_l)\n",
    "        z = self.reparameterize(mu_z, logvar_z)\n",
    "        \n",
    "        x_hat, h_r, h_p = self.decode(z,l)\n",
    "        \n",
    "        y_hat = self.classifier(z) \n",
    "        \n",
    "        return x_hat, y_hat, mu_z, logvar_z, h_r, h_p\n",
    "\n"
   ]
  },
  {
   "cell_type": "code",
   "execution_count": null,
   "metadata": {},
   "outputs": [],
   "source": [
    "#| hide\n",
    "import nbdev; nbdev.nbdev_export()"
   ]
  },
  {
   "cell_type": "code",
   "execution_count": null,
   "metadata": {},
   "outputs": [],
   "source": [
    "def NLL_loss(data, h_r, h_p):\n",
    "    \n",
    "    data = data.view(-1, 1)\n",
    "    ll = torch.distributions.negative_binomial.NegativeBinomial(h_r, h_p)\n",
    "\n",
    "    neg_ll = -torch.mean(torch.sum(ll, dim=-1))\n",
    "    return neg_ll"
   ]
  }
 ],
 "metadata": {
  "kernelspec": {
   "display_name": "scINTEGRATION",
   "language": "python",
   "name": "python3"
  }
 },
 "nbformat": 4,
 "nbformat_minor": 2
}
