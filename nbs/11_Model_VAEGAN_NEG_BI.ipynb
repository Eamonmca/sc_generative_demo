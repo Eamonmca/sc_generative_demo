{
 "cells": [
  {
   "attachments": {},
   "cell_type": "markdown",
   "metadata": {},
   "source": [
    "# VAEGAN NEGATIVE BINOMIAL\n",
    "\n",
    "> The VAEGAN model, takes an Variational Encoder, Variational Decoder and Classifier model as inputs. Uses a negative binomial as the latent variable rather than Gausian."
   ]
  },
  {
   "cell_type": "code",
   "execution_count": null,
   "metadata": {},
   "outputs": [
    {
     "ename": "KeyboardInterrupt",
     "evalue": "",
     "output_type": "error",
     "traceback": [
      "\u001b[0;31m---------------------------------------------------------------------------\u001b[0m",
      "\u001b[0;31mKeyboardInterrupt\u001b[0m                         Traceback (most recent call last)",
      "\u001b[1;32m/Users/eamonmcandrew/Desktop/Single_cell_integration/scgenerative_demo/nbs/11_Model_VAEGAN_NEG_BI.ipynb Cell 2\u001b[0m in \u001b[0;36m<cell line: 2>\u001b[0;34m()\u001b[0m\n\u001b[1;32m      <a href='vscode-notebook-cell:/Users/eamonmcandrew/Desktop/Single_cell_integration/scgenerative_demo/nbs/11_Model_VAEGAN_NEG_BI.ipynb#Y130sZmlsZQ%3D%3D?line=0'>1</a>\u001b[0m \u001b[39m#| hide\u001b[39;00m\n\u001b[0;32m----> <a href='vscode-notebook-cell:/Users/eamonmcandrew/Desktop/Single_cell_integration/scgenerative_demo/nbs/11_Model_VAEGAN_NEG_BI.ipynb#Y130sZmlsZQ%3D%3D?line=1'>2</a>\u001b[0m \u001b[39mfrom\u001b[39;00m \u001b[39mnbdev\u001b[39;00m\u001b[39m.\u001b[39;00m\u001b[39mshowdoc\u001b[39;00m \u001b[39mimport\u001b[39;00m \u001b[39m*\u001b[39m\n",
      "File \u001b[0;32m~/opt/anaconda3/envs/scINTEGRATION/lib/python3.9/site-packages/nbdev/__init__.py:3\u001b[0m, in \u001b[0;36m<module>\u001b[0;34m\u001b[0m\n\u001b[1;32m      1\u001b[0m __version__ \u001b[39m=\u001b[39m \u001b[39m\"\u001b[39m\u001b[39m2.3.9\u001b[39m\u001b[39m\"\u001b[39m\n\u001b[0;32m----> 3\u001b[0m \u001b[39mfrom\u001b[39;00m \u001b[39m.\u001b[39;00m\u001b[39mdoclinks\u001b[39;00m \u001b[39mimport\u001b[39;00m nbdev_export\n\u001b[1;32m      4\u001b[0m \u001b[39mfrom\u001b[39;00m \u001b[39m.\u001b[39;00m\u001b[39mshowdoc\u001b[39;00m \u001b[39mimport\u001b[39;00m show_doc\n",
      "File \u001b[0;32m~/opt/anaconda3/envs/scINTEGRATION/lib/python3.9/site-packages/nbdev/doclinks.py:7\u001b[0m, in \u001b[0;36m<module>\u001b[0;34m\u001b[0m\n\u001b[1;32m      4\u001b[0m __all__ \u001b[39m=\u001b[39m [\u001b[39m'\u001b[39m\u001b[39mpatch_name\u001b[39m\u001b[39m'\u001b[39m, \u001b[39m'\u001b[39m\u001b[39mnbglob\u001b[39m\u001b[39m'\u001b[39m, \u001b[39m'\u001b[39m\u001b[39mnbglob_cli\u001b[39m\u001b[39m'\u001b[39m, \u001b[39m'\u001b[39m\u001b[39mnbdev_export\u001b[39m\u001b[39m'\u001b[39m, \u001b[39m'\u001b[39m\u001b[39mNbdevLookup\u001b[39m\u001b[39m'\u001b[39m]\n\u001b[1;32m      6\u001b[0m \u001b[39m# %% ../nbs/api/doclinks.ipynb 2\u001b[39;00m\n\u001b[0;32m----> 7\u001b[0m \u001b[39mfrom\u001b[39;00m \u001b[39m.\u001b[39;00m\u001b[39mconfig\u001b[39;00m \u001b[39mimport\u001b[39;00m \u001b[39m*\u001b[39m\n\u001b[1;32m      8\u001b[0m \u001b[39mfrom\u001b[39;00m \u001b[39m.\u001b[39;00m\u001b[39mmaker\u001b[39;00m \u001b[39mimport\u001b[39;00m \u001b[39m*\u001b[39m\n\u001b[1;32m      9\u001b[0m \u001b[39mfrom\u001b[39;00m \u001b[39m.\u001b[39;00m\u001b[39mexport\u001b[39;00m \u001b[39mimport\u001b[39;00m \u001b[39m*\u001b[39m\n",
      "File \u001b[0;32m~/opt/anaconda3/envs/scINTEGRATION/lib/python3.9/site-packages/nbdev/config.py:157\u001b[0m, in \u001b[0;36m<module>\u001b[0;34m\u001b[0m\n\u001b[1;32m    148\u001b[0m _nbdev_cfg_tail \u001b[39m=\u001b[39m \u001b[39m'''\u001b[39m\u001b[39m### Optional ###\u001b[39m\n\u001b[1;32m    149\u001b[0m \u001b[39m# requirements = fastcore pandas\u001b[39m\n\u001b[1;32m    150\u001b[0m \u001b[39m# dev_requirements = \u001b[39m\n\u001b[1;32m    151\u001b[0m \u001b[39m# console_scripts =\u001b[39m\n\u001b[1;32m    152\u001b[0m \u001b[39m'''\u001b[39m\n\u001b[1;32m    154\u001b[0m \u001b[39m# %% ../nbs/api/config.ipynb 21\u001b[39;00m\n\u001b[1;32m    155\u001b[0m \u001b[39m@call_parse\u001b[39;49m\n\u001b[1;32m    156\u001b[0m \u001b[39m@delegates\u001b[39;49m(_apply_defaults, but\u001b[39m=\u001b[39;49m\u001b[39m'\u001b[39;49m\u001b[39mcfg\u001b[39;49m\u001b[39m'\u001b[39;49m)\n\u001b[0;32m--> 157\u001b[0m \u001b[39mdef\u001b[39;49;00m \u001b[39mnbdev_create_config\u001b[39;49m(\n\u001b[1;32m    158\u001b[0m     repo:\u001b[39mstr\u001b[39;49m\u001b[39m=\u001b[39;49m\u001b[39mNone\u001b[39;49;00m, \u001b[39m# Repo name\u001b[39;49;00m\n\u001b[1;32m    159\u001b[0m     branch:\u001b[39mstr\u001b[39;49m\u001b[39m=\u001b[39;49m\u001b[39mNone\u001b[39;49;00m, \u001b[39m# Repo default branch\u001b[39;49;00m\n\u001b[1;32m    160\u001b[0m     user:\u001b[39mstr\u001b[39;49m\u001b[39m=\u001b[39;49m\u001b[39mNone\u001b[39;49;00m, \u001b[39m# Repo username\u001b[39;49;00m\n\u001b[1;32m    161\u001b[0m     author:\u001b[39mstr\u001b[39;49m\u001b[39m=\u001b[39;49m\u001b[39mNone\u001b[39;49;00m, \u001b[39m# Package author's name\u001b[39;49;00m\n\u001b[1;32m    162\u001b[0m     author_email:\u001b[39mstr\u001b[39;49m\u001b[39m=\u001b[39;49m\u001b[39mNone\u001b[39;49;00m, \u001b[39m# Package author's email address\u001b[39;49;00m\n\u001b[1;32m    163\u001b[0m     description:\u001b[39mstr\u001b[39;49m\u001b[39m=\u001b[39;49m\u001b[39mNone\u001b[39;49;00m, \u001b[39m# Short summary of the package\u001b[39;49;00m\n\u001b[1;32m    164\u001b[0m     path:\u001b[39mstr\u001b[39;49m\u001b[39m=\u001b[39;49m\u001b[39m'\u001b[39;49m\u001b[39m.\u001b[39;49m\u001b[39m'\u001b[39;49m, \u001b[39m# Path to create config file\u001b[39;49;00m\n\u001b[1;32m    165\u001b[0m     cfg_name:\u001b[39mstr\u001b[39;49m\u001b[39m=\u001b[39;49m_nbdev_cfg_name, \u001b[39m# Name of config file to create\u001b[39;49;00m\n\u001b[1;32m    166\u001b[0m     \u001b[39m*\u001b[39;49m\u001b[39m*\u001b[39;49mkwargs\n\u001b[1;32m    167\u001b[0m ):\n\u001b[1;32m    168\u001b[0m     \u001b[39m\"\u001b[39;49m\u001b[39mCreate a config file.\u001b[39;49m\u001b[39m\"\u001b[39;49m\n\u001b[1;32m    169\u001b[0m     req \u001b[39m=\u001b[39;49m {k:v \u001b[39mfor\u001b[39;49;00m k,v \u001b[39min\u001b[39;49;00m \u001b[39mlocals\u001b[39;49m()\u001b[39m.\u001b[39;49mitems() \u001b[39mif\u001b[39;49;00m k \u001b[39mnot\u001b[39;49;00m \u001b[39min\u001b[39;49;00m (\u001b[39m'\u001b[39;49m\u001b[39mpath\u001b[39;49m\u001b[39m'\u001b[39;49m,\u001b[39m'\u001b[39;49m\u001b[39mcfg_name\u001b[39;49m\u001b[39m'\u001b[39;49m,\u001b[39m'\u001b[39;49m\u001b[39mkwargs\u001b[39;49m\u001b[39m'\u001b[39;49m)}\n",
      "File \u001b[0;32m~/opt/anaconda3/envs/scINTEGRATION/lib/python3.9/site-packages/fastcore/script.py:121\u001b[0m, in \u001b[0;36mcall_parse\u001b[0;34m(func, nested)\u001b[0m\n\u001b[1;32m    118\u001b[0m     tfunc \u001b[39m=\u001b[39m trace(func) \u001b[39mif\u001b[39;00m args\u001b[39m.\u001b[39mpop(\u001b[39m'\u001b[39m\u001b[39mpdb\u001b[39m\u001b[39m'\u001b[39m, \u001b[39mFalse\u001b[39;00m) \u001b[39melse\u001b[39;00m func\n\u001b[1;32m    119\u001b[0m     \u001b[39mreturn\u001b[39;00m tfunc(\u001b[39m*\u001b[39m\u001b[39m*\u001b[39mmerge(args, args_from_prog(func, xtra)))\n\u001b[0;32m--> 121\u001b[0m mod \u001b[39m=\u001b[39m inspect\u001b[39m.\u001b[39;49mgetmodule(inspect\u001b[39m.\u001b[39;49mcurrentframe()\u001b[39m.\u001b[39;49mf_back)\n\u001b[1;32m    122\u001b[0m \u001b[39mif\u001b[39;00m \u001b[39mgetattr\u001b[39m(mod, \u001b[39m'\u001b[39m\u001b[39m__name__\u001b[39m\u001b[39m'\u001b[39m, \u001b[39m'\u001b[39m\u001b[39m'\u001b[39m) \u001b[39m==\u001b[39m\u001b[39m\"\u001b[39m\u001b[39m__main__\u001b[39m\u001b[39m\"\u001b[39m:\n\u001b[1;32m    123\u001b[0m     \u001b[39msetattr\u001b[39m(mod, func\u001b[39m.\u001b[39m\u001b[39m__name__\u001b[39m, _f)\n",
      "File \u001b[0;32m~/opt/anaconda3/envs/scINTEGRATION/lib/python3.9/inspect.py:755\u001b[0m, in \u001b[0;36mgetmodule\u001b[0;34m(object, _filename)\u001b[0m\n\u001b[1;32m    752\u001b[0m         f \u001b[39m=\u001b[39m getabsfile(module)\n\u001b[1;32m    753\u001b[0m         \u001b[39m# Always map to the name the module knows itself by\u001b[39;00m\n\u001b[1;32m    754\u001b[0m         modulesbyfile[f] \u001b[39m=\u001b[39m modulesbyfile[\n\u001b[0;32m--> 755\u001b[0m             os\u001b[39m.\u001b[39;49mpath\u001b[39m.\u001b[39;49mrealpath(f)] \u001b[39m=\u001b[39m module\u001b[39m.\u001b[39m\u001b[39m__name__\u001b[39m\n\u001b[1;32m    756\u001b[0m \u001b[39mif\u001b[39;00m file \u001b[39min\u001b[39;00m modulesbyfile:\n\u001b[1;32m    757\u001b[0m     \u001b[39mreturn\u001b[39;00m sys\u001b[39m.\u001b[39mmodules\u001b[39m.\u001b[39mget(modulesbyfile[file])\n",
      "File \u001b[0;32m~/opt/anaconda3/envs/scINTEGRATION/lib/python3.9/posixpath.py:392\u001b[0m, in \u001b[0;36mrealpath\u001b[0;34m(filename)\u001b[0m\n\u001b[1;32m    389\u001b[0m     \u001b[39m\"\"\"Return the canonical path of the specified filename, eliminating any\u001b[39;00m\n\u001b[1;32m    390\u001b[0m \u001b[39msymbolic links encountered in the path.\"\"\"\u001b[39;00m\n\u001b[1;32m    391\u001b[0m     filename \u001b[39m=\u001b[39m os\u001b[39m.\u001b[39mfspath(filename)\n\u001b[0;32m--> 392\u001b[0m     path, ok \u001b[39m=\u001b[39m _joinrealpath(filename[:\u001b[39m0\u001b[39;49m], filename, {})\n\u001b[1;32m    393\u001b[0m     \u001b[39mreturn\u001b[39;00m abspath(path)\n",
      "File \u001b[0;32m~/opt/anaconda3/envs/scINTEGRATION/lib/python3.9/posixpath.py:426\u001b[0m, in \u001b[0;36m_joinrealpath\u001b[0;34m(path, rest, seen)\u001b[0m\n\u001b[1;32m    424\u001b[0m     \u001b[39mcontinue\u001b[39;00m\n\u001b[1;32m    425\u001b[0m newpath \u001b[39m=\u001b[39m join(path, name)\n\u001b[0;32m--> 426\u001b[0m \u001b[39mif\u001b[39;00m \u001b[39mnot\u001b[39;00m islink(newpath):\n\u001b[1;32m    427\u001b[0m     path \u001b[39m=\u001b[39m newpath\n\u001b[1;32m    428\u001b[0m     \u001b[39mcontinue\u001b[39;00m\n",
      "File \u001b[0;32m~/opt/anaconda3/envs/scINTEGRATION/lib/python3.9/posixpath.py:167\u001b[0m, in \u001b[0;36mislink\u001b[0;34m(path)\u001b[0m\n\u001b[1;32m    165\u001b[0m \u001b[39m\"\"\"Test whether a path is a symbolic link\"\"\"\u001b[39;00m\n\u001b[1;32m    166\u001b[0m \u001b[39mtry\u001b[39;00m:\n\u001b[0;32m--> 167\u001b[0m     st \u001b[39m=\u001b[39m os\u001b[39m.\u001b[39;49mlstat(path)\n\u001b[1;32m    168\u001b[0m \u001b[39mexcept\u001b[39;00m (\u001b[39mOSError\u001b[39;00m, \u001b[39mValueError\u001b[39;00m, \u001b[39mAttributeError\u001b[39;00m):\n\u001b[1;32m    169\u001b[0m     \u001b[39mreturn\u001b[39;00m \u001b[39mFalse\u001b[39;00m\n",
      "\u001b[0;31mKeyboardInterrupt\u001b[0m: "
     ]
    }
   ],
   "source": [
    "#| hide\n",
    "from nbdev.showdoc import *"
   ]
  },
  {
   "cell_type": "code",
   "execution_count": null,
   "metadata": {},
   "outputs": [],
   "source": [
    "#| default_exp Models.VAEGAN_NEG_BI"
   ]
  },
  {
   "cell_type": "code",
   "execution_count": null,
   "metadata": {},
   "outputs": [],
   "source": [
    "#| export\n",
    "import torch \n",
    "import torch.nn as nn\n",
    "import torch.optim as optim\n",
    "import torch.nn.functional as F\n",
    "from torch.distributions import NegativeBinomial\n",
    "\n",
    "class VAEGAN_NEG_BI(nn.Module):\n",
    "    def __init__(self, encoder, decoder, classifier):\n",
    "        \"\"\"\n",
    "        The VAEGAN model with Negative Binomial distribution as Latent Variable\n",
    "        \"\"\"\n",
    "        super(VAEGAN_NEG_BI, self).__init__()\n",
    "        self.encoder = encoder \n",
    "        self.decoder = decoder\n",
    "        self.classifier = classifier\n",
    "        assert(self.encoder.latent_size == self.decoder.input_size)\n",
    "        assert(self.encoder.latent_size == self.classifier.input_size)\n",
    "        \n",
    "    def reparameterize(self, mu, logvar):\n",
    "        std = torch.exp(0.5*logvar)\n",
    "        eps = torch.randn_like(std)\n",
    "        z = (mu + eps*std)\n",
    "        return z\n",
    "\n",
    "    def forward(self, x):\n",
    "        mu, logvar = self.encoder(x)\n",
    "        z = self.reparameterize(mu, logvar)\n",
    "        x_hat = self.decoder(z)\n",
    "        print(x_hat)\n",
    "        print(x_hat.shape)\n",
    "        Negative_binomial = NegativeBinomial(total_count=F.sigmoid(x_hat[:,0]), logits=F.softmax(x_hat[:,1]))\n",
    "        x_hat = Negative_binomial.sample()\n",
    "        y_hat = self.classifier(z)\n",
    "        return x_hat, y_hat, mu, logvar\n"
   ]
  },
  {
   "cell_type": "code",
   "execution_count": null,
   "metadata": {},
   "outputs": [],
   "source": [
    "#| hide\n",
    "import nbdev; nbdev.nbdev_export()"
   ]
  }
 ],
 "metadata": {
  "kernelspec": {
   "display_name": "scINTEGRATION",
   "language": "python",
   "name": "python3"
  }
 },
 "nbformat": 4,
 "nbformat_minor": 2
}
