{
 "cells": [
  {
   "attachments": {},
   "cell_type": "markdown",
   "metadata": {},
   "source": [
    "# VAEGAN NEGATIVE BINOMIAL\n",
    "\n",
    "> The VAEGAN model, takes an Variational Encoder, Variational Decoder and Classifier model as inputs. Uses a negative binomial as the latent variable rather than Gausian."
   ]
  },
  {
   "cell_type": "code",
   "execution_count": null,
   "metadata": {},
   "outputs": [],
   "source": [
    "#| hide\n",
    "from nbdev.showdoc import *"
   ]
  },
  {
   "cell_type": "code",
   "execution_count": null,
   "metadata": {},
   "outputs": [],
   "source": [
    "#| default_exp Models.VAEGAN_NEG_BI"
   ]
  },
  {
   "cell_type": "code",
   "execution_count": null,
   "metadata": {},
   "outputs": [],
   "source": [
    "#| export\n",
    "import torch \n",
    "import torch.nn as nn\n",
    "import torch.optim as optim\n",
    "import torch.nn.functional as F\n",
    "from torch.distributions import NegativeBinomial\n",
    "\n",
    "class VAEGAN_NEG_BI(nn.Module):\n",
    "    def __init__(self, encoder, decoder, classifier):\n",
    "        \"\"\"\n",
    "        The VAEGAN model with Negative Binomial distribution as Latent Variable\n",
    "        \"\"\"\n",
    "        super(VAEGAN, self).__init__()\n",
    "        self.encoder = encoder \n",
    "        self.decoder = decoder\n",
    "        self.classifier = classifier\n",
    "        assert(self.encoder.latent_size == self.decoder.input_size)\n",
    "        assert(self.encoder.latent_size == self.classifier.input_size)\n",
    "        \n",
    "    def reparameterize(self, mu, log_disp):\n",
    "        disp = torch.exp(log_disp)\n",
    "        z = NegativeBinomial(mu, disp).rsample()\n",
    "        return z\n",
    "\n",
    "    def forward(self, x):\n",
    "        mu, log_disp = self.encoder(x)\n",
    "        z = self.reparameterize(mu, log_disp)\n",
    "        x_hat = self.decoder(z)\n",
    "        y_hat = self.classifier(z)\n",
    "        return x_hat, y_hat, mu, log_disp\n",
    "    "
   ]
  },
  {
   "cell_type": "code",
   "execution_count": null,
   "metadata": {},
   "outputs": [],
   "source": [
    "#| hide\n",
    "import nbdev; nbdev.nbdev_export()"
   ]
  }
 ],
 "metadata": {
  "kernelspec": {
   "display_name": "scINTEGRATION",
   "language": "python",
   "name": "python3"
  }
 },
 "nbformat": 4,
 "nbformat_minor": 2
}
